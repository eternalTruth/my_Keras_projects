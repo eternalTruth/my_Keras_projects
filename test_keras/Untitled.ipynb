{
 "cells": [
  {
   "cell_type": "code",
   "execution_count": 1,
   "metadata": {},
   "outputs": [
    {
     "name": "stderr",
     "output_type": "stream",
     "text": [
      "Using TensorFlow backend.\n"
     ]
    }
   ],
   "source": [
    "import math\n",
    "import pandas as pd\n",
    "import numpy as np\n",
    "import matplotlib.pyplot as plt\n",
    "from keras.models import Sequential\n",
    "from keras.layers import Embedding, Dropout, Dense, Merge, core"
   ]
  },
  {
   "cell_type": "code",
   "execution_count": 2,
   "metadata": {},
   "outputs": [
    {
     "name": "stderr",
     "output_type": "stream",
     "text": [
      "d:\\ProgramData\\Anaconda3\\lib\\site-packages\\ipykernel_launcher.py:4: ParserWarning: Falling back to the 'python' engine because the 'c' engine does not support regex separators (separators > 1 char and different from '\\s+' are interpreted as regex); you can avoid this warning by specifying engine='python'.\n",
      "  after removing the cwd from sys.path.\n"
     ]
    },
    {
     "name": "stdout",
     "output_type": "stream",
     "text": [
      "[6040, 3952, 1000209]\n"
     ]
    }
   ],
   "source": [
    "k = 128\n",
    "base_url = \"E:/Github/my_Keras_projects/test_keras/\" # win\n",
    "# base_url = \"\" # linux\n",
    "ratings = pd.read_csv(base_url + \"ml-1m/ratings.dat\", sep='::', names=['user_id','movie_id', 'rating','timestamp'])\n",
    "n_users = np.max(ratings['user_id'])\n",
    "n_movies = np.max(ratings['movie_id'])\n",
    "print([n_users, n_movies, len(ratings)]) # ['userId', 'movieId', 100005]  "
   ]
  },
  {
   "cell_type": "code",
   "execution_count": 3,
   "metadata": {},
   "outputs": [
    {
     "data": {
      "image/png": "[encoded data removed]",
      "text/plain": [
       "<Figure size 432x288 with 1 Axes>"
      ]
     },
     "metadata": {},
     "output_type": "display_data"
    },
    {
     "name": "stdout",
     "output_type": "stream",
     "text": [
      "3.581564453029317\n"
     ]
    }
   ],
   "source": [
    "plt.hist(ratings['rating'])\n",
    "plt.show()\n",
    "print(np.mean(ratings['rating']))"
   ]
  },
  {
   "cell_type": "code",
   "execution_count": 4,
   "metadata": {},
   "outputs": [],
   "source": [
    "# 第一个小网络，处理用户嵌入层\n",
    "model1 = Sequential()\n",
    "model1.add(Embedding(n_users + 1, k, input_length = 1))\n",
    "model1.add(core.Reshape((k,)))  # keras.layers.core.Reshape"
   ]
  },
  {
   "cell_type": "code",
   "execution_count": 5,
   "metadata": {},
   "outputs": [],
   "source": [
    " # 第二个小网络，处理电影嵌入层\n",
    "model2 = Sequential()\n",
    "model2.add(Embedding(n_movies +1 ,k, input_length = 1 ))\n",
    "model2.add(core.Reshape((k,)))\n"
   ]
  },
  {
   "cell_type": "code",
   "execution_count": 6,
   "metadata": {},
   "outputs": [
    {
     "name": "stderr",
     "output_type": "stream",
     "text": [
      "d:\\ProgramData\\Anaconda3\\lib\\site-packages\\ipykernel_launcher.py:3: UserWarning: The `Merge` layer is deprecated and will be removed after 08/2017. Use instead layers from `keras.layers.merge`, e.g. `add`, `concatenate`, etc.\n",
      "  This is separate from the ipykernel package so we can avoid doing imports until\n"
     ]
    }
   ],
   "source": [
    "# 第三个小网络，在第一，二个网络基础上叠加乘积运算\n",
    "model = Sequential()\n",
    "model.add(Merge([model1, model2], mode = 'dot', dot_axes= 1))"
   ]
  },
  {
   "cell_type": "code",
   "execution_count": 7,
   "metadata": {},
   "outputs": [],
   "source": [
    "# 输出层和最后评分作对比，后向传播更新网络参数\n",
    "model.compile(loss = 'mse', optimizer = 'adam') \n",
    "# 另外可以尝试 optimizer = 'rmsprop' 或 'adagrad'"
   ]
  },
  {
   "cell_type": "code",
   "execution_count": 8,
   "metadata": {},
   "outputs": [],
   "source": [
    "# 获取用户索引数据和电影索引数据，相应的特征矩阵X_train需要两个索引数据一起构造\n",
    "users = ratings['user_id'].values\n",
    "movies = ratings['movie_id'].values\n",
    "X_train = [users, movies]"
   ]
  },
  {
   "cell_type": "code",
   "execution_count": 9,
   "metadata": {},
   "outputs": [],
   "source": [
    "# 评分数据\n",
    "y_train = ratings['rating'].values"
   ]
  },
  {
   "cell_type": "code",
   "execution_count": 10,
   "metadata": {},
   "outputs": [
    {
     "name": "stdout",
     "output_type": "stream",
     "text": [
      "Epoch 1/50\n",
      "1000209/1000209 [==============================] - 210s 210us/step - loss: 2.5402\n",
      "Epoch 2/50\n",
      "1000209/1000209 [==============================] - 207s 206us/step - loss: 0.7753\n",
      "Epoch 3/50\n",
      "1000209/1000209 [==============================] - 206s 206us/step - loss: 0.6503s\n",
      "Epoch 4/50\n",
      "1000209/1000209 [==============================] - 208s 208us/step - loss: 0.5218\n",
      "Epoch 5/50\n",
      "1000209/1000209 [==============================] - 208s 208us/step - loss: 0.4173\n",
      "Epoch 6/50\n",
      "1000209/1000209 [==============================] - 208s 208us/step - loss: 0.3468\n",
      "Epoch 7/50\n",
      "1000209/1000209 [==============================] - 208s 208us/step - loss: 0.3024\n",
      "Epoch 8/50\n",
      "1000209/1000209 [==============================] - 209s 208us/step - loss: 0.2736\n",
      "Epoch 9/50\n",
      "1000209/1000209 [==============================] - 207s 207us/step - loss: 0.2541\n",
      "Epoch 10/50\n",
      "1000209/1000209 [==============================] - 207s 207us/step - loss: 0.2396\n",
      "Epoch 11/50\n",
      "1000209/1000209 [==============================] - 207s 207us/step - loss: 0.2288\n",
      "Epoch 12/50\n",
      "1000209/1000209 [==============================] - 207s 207us/step - loss: 0.2202\n",
      "Epoch 13/50\n",
      "1000209/1000209 [==============================] - 208s 208us/step - loss: 0.2137\n",
      "Epoch 14/50\n",
      "1000209/1000209 [==============================] - 208s 208us/step - loss: 0.2076\n",
      "Epoch 15/50\n",
      "1000209/1000209 [==============================] - 208s 208us/step - loss: 0.2030\n",
      "Epoch 16/50\n",
      "1000209/1000209 [==============================] - 208s 208us/step - loss: 0.1991\n",
      "Epoch 17/50\n",
      "1000209/1000209 [==============================] - 208s 208us/step - loss: 0.1956\n",
      "Epoch 18/50\n",
      "1000209/1000209 [==============================] - 203s 203us/step - loss: 0.1923\n",
      "Epoch 19/50\n",
      "1000209/1000209 [==============================] - 201s 201us/step - loss: 0.1900\n",
      "Epoch 20/50\n",
      "1000209/1000209 [==============================] - 201s 201us/step - loss: 0.1876\n",
      "Epoch 21/50\n",
      "1000209/1000209 [==============================] - 201s 201us/step - loss: 0.1856\n",
      "Epoch 22/50\n",
      "1000209/1000209 [==============================] - 202s 202us/step - loss: 0.1835\n",
      "Epoch 23/50\n",
      "1000209/1000209 [==============================] - 203s 203us/step - loss: 0.1819\n",
      "Epoch 24/50\n",
      "1000209/1000209 [==============================] - 208s 208us/step - loss: 0.1805\n",
      "Epoch 25/50\n",
      "1000209/1000209 [==============================] - 208s 208us/step - loss: 0.1788\n",
      "Epoch 26/50\n",
      "1000209/1000209 [==============================] - 210s 210us/step - loss: 0.1776\n",
      "Epoch 27/50\n",
      "1000209/1000209 [==============================] - 208s 208us/step - loss: 0.1764\n",
      "Epoch 28/50\n",
      "1000209/1000209 [==============================] - 208s 208us/step - loss: 0.1752s - \n",
      "Epoch 29/50\n",
      "1000209/1000209 [==============================] - 209s 209us/step - loss: 0.1740\n",
      "Epoch 30/50\n",
      "1000209/1000209 [==============================] - 210s 210us/step - loss: 0.1733\n",
      "Epoch 31/50\n",
      "1000209/1000209 [==============================] - 208s 208us/step - loss: 0.1723\n",
      "Epoch 32/50\n",
      "1000209/1000209 [==============================] - 208s 208us/step - loss: 0.1715\n",
      "Epoch 33/50\n",
      "1000209/1000209 [==============================] - 208s 208us/step - loss: 0.1705\n",
      "Epoch 34/50\n",
      "1000209/1000209 [==============================] - 208s 207us/step - loss: 0.1700\n",
      "Epoch 35/50\n",
      "1000209/1000209 [==============================] - 209s 209us/step - loss: 0.1691\n",
      "Epoch 36/50\n",
      "1000209/1000209 [==============================] - 208s 208us/step - loss: 0.1683\n",
      "Epoch 37/50\n",
      "1000209/1000209 [==============================] - 207s 207us/step - loss: 0.1680\n",
      "Epoch 38/50\n",
      "1000209/1000209 [==============================] - 208s 208us/step - loss: 0.1672\n",
      "Epoch 39/50\n",
      "1000209/1000209 [==============================] - 208s 208us/step - loss: 0.1667\n",
      "Epoch 40/50\n",
      "1000209/1000209 [==============================] - 206s 206us/step - loss: 0.1660\n",
      "Epoch 41/50\n",
      "1000209/1000209 [==============================] - 200s 200us/step - loss: 0.1656\n",
      "Epoch 42/50\n",
      "1000209/1000209 [==============================] - 200s 200us/step - loss: 0.1652\n",
      "Epoch 43/50\n",
      "1000209/1000209 [==============================] - 201s 201us/step - loss: 0.1645s - l - ETA: 0\n",
      "Epoch 44/50\n",
      "1000209/1000209 [==============================] - 201s 201us/step - loss: 0.1641s\n",
      "Epoch 45/50\n",
      "1000209/1000209 [==============================] - 201s 201us/step - loss: 0.1640\n",
      "Epoch 46/50\n",
      "1000209/1000209 [==============================] - 202s 202us/step - loss: 0.1637\n",
      "Epoch 47/50\n",
      "1000209/1000209 [==============================] - 201s 201us/step - loss: 0.1628\n",
      "Epoch 48/50\n",
      "1000209/1000209 [==============================] - 201s 201us/step - loss: 0.1626\n",
      "Epoch 49/50\n",
      "1000209/1000209 [==============================] - 202s 202us/step - loss: 0.1622s - loss - ETA: 0s \n",
      "Epoch 50/50\n",
      "1000209/1000209 [==============================] - 202s 202us/step - loss: 0.1620\n",
      "模型训练完成\n"
     ]
    }
   ],
   "source": [
    "# 一切准备就绪，使用大小为100的小批量，使用50次迭代来更新权重。\n",
    "model.fit(X_train, y_train, batch_size= 100, epochs= 50)\n",
    "print(\"模型训练完成\")"
   ]
  },
  {
   "cell_type": "code",
   "execution_count": 11,
   "metadata": {},
   "outputs": [],
   "source": [
    "# 预测第10个用户对编号99的电影的评分\n",
    "i = 10\n",
    "j = 99\n",
    "pred = model.predict([np.array([users[i]]), np.array([movies[j]])])"
   ]
  },
  {
   "cell_type": "code",
   "execution_count": 12,
   "metadata": {},
   "outputs": [
    {
     "name": "stdout",
     "output_type": "stream",
     "text": [
      "0.3643445822738439\n"
     ]
    }
   ],
   "source": [
    "# 计算训练样本误差\n",
    "sum = 0 \n",
    "for i in range(ratings.shape[0]):\n",
    "    sum += (ratings['rating'][i] - model.predict([np.array([ratings['user_id'][i]]), np.array([ratings['movie_id'][i]])]))**2\n",
    "mse = math.sqrt(sum/ratings.shape[0])\n",
    "print( mse)"
   ]
  },
  {
   "cell_type": "code",
   "execution_count": null,
   "metadata": {},
   "outputs": [],
   "source": []
  }
 ],
 "metadata": {
  "kernelspec": {
   "display_name": "Python 3",
   "language": "python",
   "name": "python3"
  },
  "language_info": {
   "codemirror_mode": {
    "name": "ipython",
    "version": 3
   },
   "file_extension": ".py",
   "mimetype": "text/x-python",
   "name": "python",
   "nbconvert_exporter": "python",
   "pygments_lexer": "ipython3",
   "version": "3.6.5"
  }
 },
 "nbformat": 4,
 "nbformat_minor": 2
}
